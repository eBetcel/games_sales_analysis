{
 "cells": [
  {
   "attachments": {},
   "cell_type": "markdown",
   "metadata": {},
   "source": [
    "# Libraries import, dataset load and profiling"
   ]
  },
  {
   "cell_type": "code",
   "execution_count": null,
   "metadata": {},
   "outputs": [],
   "source": [
    "import pandas as pd\n",
    "import seaborn as sns\n",
    "import matplotlib as plt\n",
    "from pandas_profiling import ProfileReport\n"
   ]
  },
  {
   "cell_type": "code",
   "execution_count": null,
   "metadata": {},
   "outputs": [],
   "source": [
    "df = pd.read_csv('dataset/vgsales.csv')\n",
    "profile = ProfileReport(df)"
   ]
  },
  {
   "cell_type": "code",
   "execution_count": null,
   "metadata": {},
   "outputs": [],
   "source": [
    "profile.to_file(\"report_games_sales.html\")"
   ]
  },
  {
   "attachments": {},
   "cell_type": "markdown",
   "metadata": {},
   "source": [
    "# Data cleaning and Transformation"
   ]
  },
  {
   "cell_type": "code",
   "execution_count": null,
   "metadata": {},
   "outputs": [],
   "source": [
    "# Creating generation column\n",
    "\n",
    "consoles = {\n",
    "    \"4\": [\"SNES\", \"GEN\"],\n",
    "    \"5\": [\"PS\", \"SAT\", \"N64\"],\n",
    "    \"6\": [\"PS2\", \"XB\", \"GC\"],\n",
    "    \"7\": [\"PS3\", \"X360\", \"Wii\"],\n",
    "    \"8\": [\"PS4\", \"XOne\", \"WiiU\"],\n",
    "}\n",
    "\n",
    "\n",
    "map_consoles = {}\n",
    "for geracao, consoles_geracao in consoles.items():\n",
    "    for console in consoles_geracao:\n",
    "        map_consoles[console.lower()] = geracao\n",
    "\n",
    "\n",
    "df[\"Generation\"] = df[\"Platform\"].str.lower().map(map_consoles)\n",
    "\n"
   ]
  },
  {
   "cell_type": "code",
   "execution_count": null,
   "metadata": {},
   "outputs": [],
   "source": [
    "# Creating decade column\n",
    "\n",
    "# Casting Year from float do int\n",
    "df = df.astype({\"Year\": \"int\"}, errors=\"ignore\")\n",
    "\n",
    "\n",
    "def map_year_to_decade(year):\n",
    "    \"\"\"Map a year to its decade as a string.\n",
    "\n",
    "    Args:\n",
    "        year (int): The year to map to a decade.\n",
    "\n",
    "    Returns:\n",
    "        str: A string representing the decade in which the year falls, with the format \"<decade>0s\", where\n",
    "             <decade> is the first two digits of the year.\n",
    "    \"\"\"\n",
    "    if year:\n",
    "        return str(year)[2] + \"0s\""
   ]
  },
  {
   "cell_type": "code",
   "execution_count": 16,
   "metadata": {},
   "outputs": [],
   "source": [
    "df.to_csv(\"exp_df.csv\", encoding=\"utf-8\", index=False)"
   ]
  }
 ],
 "metadata": {
  "kernelspec": {
   "display_name": ".env",
   "language": "python",
   "name": "python3"
  },
  "language_info": {
   "codemirror_mode": {
    "name": "ipython",
    "version": 3
   },
   "file_extension": ".py",
   "mimetype": "text/x-python",
   "name": "python",
   "nbconvert_exporter": "python",
   "pygments_lexer": "ipython3",
   "version": "3.10.6"
  },
  "orig_nbformat": 4
 },
 "nbformat": 4,
 "nbformat_minor": 2
}
