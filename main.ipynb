{
 "cells": [
  {
   "attachments": {},
   "cell_type": "markdown",
   "metadata": {},
   "source": [
    "# Libraries import, dataset load and profiling"
   ]
  },
  {
   "cell_type": "code",
   "execution_count": 1,
   "metadata": {},
   "outputs": [
    {
     "name": "stderr",
     "output_type": "stream",
     "text": [
      "/root/ufrn/games_sales_analysis/.env/lib/python3.10/site-packages/tqdm/auto.py:22: TqdmWarning: IProgress not found. Please update jupyter and ipywidgets. See https://ipywidgets.readthedocs.io/en/stable/user_install.html\n",
      "  from .autonotebook import tqdm as notebook_tqdm\n",
      "/tmp/ipykernel_25135/2840734955.py:4: DeprecationWarning: `import pandas_profiling` is going to be deprecated by April 1st. Please use `import ydata_profiling` instead.\n",
      "  from pandas_profiling import ProfileReport\n"
     ]
    }
   ],
   "source": [
    "import pandas as pd\n",
    "import seaborn as sns\n",
    "import matplotlib as plt\n",
    "from pandas_profiling import ProfileReport\n"
   ]
  },
  {
   "cell_type": "code",
   "execution_count": 2,
   "metadata": {},
   "outputs": [],
   "source": [
    "df = pd.read_csv('dataset/vgsales.csv')\n",
    "profile = ProfileReport(df)"
   ]
  },
  {
   "cell_type": "code",
   "execution_count": null,
   "metadata": {},
   "outputs": [],
   "source": [
    "profile.to_file(\"report_games_sales.html\")"
   ]
  },
  {
   "attachments": {},
   "cell_type": "markdown",
   "metadata": {},
   "source": [
    "# Data cleaning and Transformation"
   ]
  },
  {
   "cell_type": "code",
   "execution_count": 8,
   "metadata": {},
   "outputs": [
    {
     "name": "stdout",
     "output_type": "stream",
     "text": [
      "{'snes': 4, 'gen': 4, 'ps': 5, 'sat': 5, 'n64': 5, 'ps2': 6, 'xb': 6, 'gc': 6, 'ps3': 7, 'x360': 7, 'wii': 7, 'ps4': 8, 'xone': 8, 'wiiu': 8}\n"
     ]
    }
   ],
   "source": [
    "# Creating generation column\n",
    "\n",
    "consoles = {\n",
    "    4: [\"SNES\", \"GEN\"],\n",
    "    5: [\"PS\", \"SAT\", \"N64\"],\n",
    "    6: [\"PS2\", \"XB\", \"GC\"],\n",
    "    7: [\"PS3\", \"X360\", \"Wii\"],\n",
    "    8: [\"PS4\", \"XOne\", \"WiiU\"],\n",
    "}\n",
    "\n",
    "\n",
    "map_consoles = {}\n",
    "for geracao, consoles_geracao in consoles.items():\n",
    "    for console in consoles_geracao:\n",
    "        map_consoles[console.lower()] = int(geracao)\n",
    "\n",
    "print(map_consoles)\n",
    "\n",
    "df[\"Generation\"] = df[\"Platform\"].str.lower().map(map_consoles)\n",
    "\n",
    "default_value = 0\n",
    "df['Generation'] = df['Generation'].fillna(default_value)\n",
    "df[\"Generation\"] = df[\"Generation\"].astype(\"int64\")\n",
    "\n"
   ]
  },
  {
   "cell_type": "code",
   "execution_count": 9,
   "metadata": {},
   "outputs": [],
   "source": [
    "# Casting Year from float do int\n",
    "default_value = 0\n",
    "df['Year'] = df['Year'].fillna(default_value)\n",
    "df[\"Year\"] = df[\"Year\"].astype(\"int64\")\n",
    "\n",
    "\n",
    "\n",
    "def map_year_to_decade(year):\n",
    "    \"\"\"Map a year to its decade as a string.\n",
    "\n",
    "    Args:\n",
    "        year (int): The year to map to a decade.\n",
    "\n",
    "    Returns:\n",
    "        str: A string representing the decade in which the year falls, with the format \"<decade>0s\", where\n",
    "             <decade> is the first two digits of the year.\n",
    "    \"\"\"\n",
    "    if year != 0:\n",
    "        return str(year)[2] + \"0s\"\n",
    "\n",
    "\n",
    "# Creating decade column\n",
    "df[\"Decade\"] = df[\"Year\"].apply(map_year_to_decade)\n",
    "df[\"Decade\"] = df[\"Decade\"].astype(\"str\")\n",
    "\n"
   ]
  },
  {
   "cell_type": "code",
   "execution_count": 10,
   "metadata": {},
   "outputs": [],
   "source": [
    "df.to_csv(\"exp_df.csv\", encoding=\"utf-8\", index=False)"
   ]
  }
 ],
 "metadata": {
  "kernelspec": {
   "display_name": ".env",
   "language": "python",
   "name": "python3"
  },
  "language_info": {
   "codemirror_mode": {
    "name": "ipython",
    "version": 3
   },
   "file_extension": ".py",
   "mimetype": "text/x-python",
   "name": "python",
   "nbconvert_exporter": "python",
   "pygments_lexer": "ipython3",
   "version": "3.10.6"
  },
  "orig_nbformat": 4
 },
 "nbformat": 4,
 "nbformat_minor": 2
}
